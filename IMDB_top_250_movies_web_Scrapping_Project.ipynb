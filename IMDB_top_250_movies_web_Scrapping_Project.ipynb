{
  "nbformat": 4,
  "nbformat_minor": 0,
  "metadata": {
    "colab": {
      "provenance": []
    },
    "kernelspec": {
      "name": "python3",
      "display_name": "Python 3"
    },
    "language_info": {
      "name": "python"
    }
  },
  "cells": [
    {
      "cell_type": "markdown",
      "source": [
        "IMPORTING DEPENDENCIES\n"
      ],
      "metadata": {
        "id": "EhPcurvhzw26"
      }
    },
    {
      "cell_type": "code",
      "execution_count": 55,
      "metadata": {
        "colab": {
          "base_uri": "https://localhost:8080/"
        },
        "id": "fgLWd5xhdnIe",
        "outputId": "d3ab328f-c104-474b-951c-2b72f8339c80"
      },
      "outputs": [
        {
          "output_type": "stream",
          "name": "stdout",
          "text": [
            "['Top Rated Movies ']\n"
          ]
        }
      ],
      "source": [
        "from bs4 import BeautifulSoup\n",
        "import requests, openpyxl\n",
        "\n",
        "excel = openpyxl.Workbook()\n",
        "sheet = excel.active\n",
        "sheet.title = 'Top Rated Movies '\n",
        "print(excel.sheetnames)\n",
        "sheet.append(['Movie Rank', 'Movie Name','Year','Rating'])"
      ]
    },
    {
      "cell_type": "markdown",
      "source": [],
      "metadata": {
        "id": "XgCuzpiR0B0D"
      }
    },
    {
      "cell_type": "code",
      "source": [
        "try: \n",
        "  source = requests.get('https://www.imdb.com/chart/top/')\n",
        "\n",
        "  #raise foe status is used for error check in the url\n",
        "  source.raise_for_status()\n",
        "  htmldata = BeautifulSoup(source.text, 'html.parser')\n",
        "  movies  = htmldata.find('tbody',class_='lister-list').find_all('tr')\n",
        "  #iterating web data  \n",
        "  for movie in movies:\n",
        "    name = movie.find('td',class_ = 'titleColumn').a.text\n",
        "    rank = movie.find('td',class_ = 'titleColumn').get_text(strip=True).split('.')[0]\n",
        "    rating = movie.find('td',class_ = 'ratingColumn imdbRating').get_text(strip=True)\n",
        "    year = movie.find('td',class_ = 'titleColumn').span.text.strip('()')\n",
        "\n",
        "    #appending scraped data into excel file\n",
        "    sheet.append([rank,name,year,rating])\n",
        "\n",
        "except Exception as e:\n",
        "  print(e)\n",
        "\n",
        "#saving excel data\n",
        "excel.save('IMDB Movie Ratings.xlsx')\n",
        "\n",
        "  "
      ],
      "metadata": {
        "id": "MZARpYBhdvla"
      },
      "execution_count": 56,
      "outputs": []
    },
    {
      "cell_type": "code",
      "source": [],
      "metadata": {
        "id": "-RQq8xJmf_9z"
      },
      "execution_count": null,
      "outputs": []
    }
  ]
}